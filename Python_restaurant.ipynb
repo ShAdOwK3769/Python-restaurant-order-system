{
 "cells": [
  {
   "cell_type": "code",
   "execution_count": 1,
   "id": "77da7cf1-2b8a-4ad2-9649-e0379ca1da0f",
   "metadata": {},
   "outputs": [
    {
     "name": "stdout",
     "output_type": "stream",
     "text": [
      "Welcome to Python Restaurant!\n",
      "Here is our menu:\n",
      "Pizza: ₹40\n",
      "Pasta: ₹50\n",
      "Burger: ₹100\n",
      "Coffee: ₹30\n",
      "Salad: ₹40\n"
     ]
    },
    {
     "name": "stdin",
     "output_type": "stream",
     "text": [
      "\n",
      "Enter the name of the item you want to order:  Pizza\n"
     ]
    },
    {
     "name": "stdout",
     "output_type": "stream",
     "text": [
      "Your item 'Pizza' has been added to your order.\n"
     ]
    },
    {
     "name": "stdin",
     "output_type": "stream",
     "text": [
      "\n",
      "Do you want to add another item? (yes/no):  yes\n",
      "Enter the next item you want to order:  tea\n"
     ]
    },
    {
     "name": "stdout",
     "output_type": "stream",
     "text": [
      "Sorry, 'Tea' is not available. Please choose from the menu.\n"
     ]
    },
    {
     "name": "stdin",
     "output_type": "stream",
     "text": [
      "\n",
      "Do you want to add another item? (yes/no):  yes\n",
      "Enter the next item you want to order:  Coffe\n"
     ]
    },
    {
     "name": "stdout",
     "output_type": "stream",
     "text": [
      "Sorry, 'Coffe' is not available. Please choose from the menu.\n"
     ]
    },
    {
     "name": "stdin",
     "output_type": "stream",
     "text": [
      "\n",
      "Do you want to add another item? (yes/no):  yes\n",
      "Enter the next item you want to order:  Coffee\n"
     ]
    },
    {
     "name": "stdout",
     "output_type": "stream",
     "text": [
      "Your item 'Coffee' has been added to your order.\n"
     ]
    },
    {
     "name": "stdin",
     "output_type": "stream",
     "text": [
      "\n",
      "Do you want to add another item? (yes/no):  no\n"
     ]
    },
    {
     "name": "stdout",
     "output_type": "stream",
     "text": [
      "\n",
      "Your total bill amount is ₹70. Thank you for visiting Python Restaurant!\n"
     ]
    }
   ],
   "source": [
    "menu = {\n",
    "    'Pizza': 40,\n",
    "    'Pasta': 50,\n",
    "    'Burger': 100,\n",
    "    'Coffee': 30,\n",
    "    'Salad': 40\n",
    "}\n",
    "\n",
    "print(\"Welcome to Python Restaurant!\")\n",
    "print(\"Here is our menu:\")\n",
    "for item, price in menu.items():\n",
    "    print(f\"{item}: ₹{price}\")\n",
    "\n",
    "order_total = 0\n",
    "item_1 = input(\"\\nEnter the name of the item you want to order: \").title()\n",
    "\n",
    "if item_1 in menu:\n",
    "    order_total += menu[item_1]\n",
    "    print(f\"Your item '{item_1}' has been added to your order.\")\n",
    "else:\n",
    "    print(f\"Sorry, '{item_1}' is not available. Please choose from the menu.\")\n",
    "\n",
    "while True:\n",
    "    another_order = input(\"\\nDo you want to add another item? (yes/no): \").lower()\n",
    "    \n",
    "    if another_order == \"yes\":\n",
    "        item_next = input(\"Enter the next item you want to order: \").title()\n",
    "        if item_next in menu:\n",
    "            order_total += menu[item_next]\n",
    "            print(f\"Your item '{item_next}' has been added to your order.\")\n",
    "        else:\n",
    "            print(f\"Sorry, '{item_next}' is not available. Please choose from the menu.\")\n",
    "    elif another_order == \"no\":\n",
    "        break\n",
    "    else:\n",
    "        print(\"Please enter 'yes' or 'no'.\")\n",
    "\n",
    "print(f\"\\nYour total bill amount is ₹{order_total}. Thank you for visiting Python Restaurant!\")\n"
   ]
  },
  {
   "cell_type": "code",
   "execution_count": null,
   "id": "f4f134d0-237e-4bf2-9ed6-693da74fdb57",
   "metadata": {},
   "outputs": [],
   "source": []
  }
 ],
 "metadata": {
  "kernelspec": {
   "display_name": "Python 3 (ipykernel)",
   "language": "python",
   "name": "python3"
  },
  "language_info": {
   "codemirror_mode": {
    "name": "ipython",
    "version": 3
   },
   "file_extension": ".py",
   "mimetype": "text/x-python",
   "name": "python",
   "nbconvert_exporter": "python",
   "pygments_lexer": "ipython3",
   "version": "3.12.4"
  }
 },
 "nbformat": 4,
 "nbformat_minor": 5
}
